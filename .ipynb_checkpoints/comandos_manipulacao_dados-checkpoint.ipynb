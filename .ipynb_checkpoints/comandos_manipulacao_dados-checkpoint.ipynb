{
 "cells": [
  {
   "cell_type": "raw",
   "id": "640bc96e-d8a1-4958-ae88-0668a9b5dc19",
   "metadata": {},
   "source": [
    "Alguns comandos usados para manipulação do dataframe"
   ]
  },
  {
   "cell_type": "raw",
   "id": "d2176a40-34cb-487d-972f-a6bad6210ff2",
   "metadata": {},
   "source": [
    "Extração do mês da data, usando a função dt:\n",
    "df.ocorrencia_dia.dt.mont"
   ]
  },
  {
   "cell_type": "raw",
   "id": "ef0c4656-ef9d-4fbd-a76c-dce2a4295304",
   "metadata": {},
   "source": [
    "Outra forma de somar os valores que sejam do tipo NA, não informado:\n",
    "df.isnull().sum()"
   ]
  },
  {
   "cell_type": "raw",
   "id": "f8038697-494d-448d-ae9e-02c36ea6ebb8",
   "metadata": {},
   "source": [
    "Preenche o valor 0 nas células com valor NA naquele instante:\n",
    "df.fillna(0)\n",
    "\n",
    "Preenche o valor 10 nas células que tem valor NA no dataframe inteiro:\n",
    "df.fillna(10,inplace=True)\n",
    "\n",
    "Substitui todos os valores 10 por valores NA no dataframe inteiro:\n",
    "df.replace([10], pd.NA, inplace=True)\n",
    "\n",
    "Preenche com valor NA as células da coluna total_recomendacoes de valor 10:\n",
    "df.fillna(value={'total_recomendacoes':10}, inplace=True)"
   ]
  },
  {
   "cell_type": "raw",
   "id": "1b4bce99-2936-4ed9-9720-1abccb30f04d",
   "metadata": {},
   "source": [
    "Deleta todas as linhas com valor NA na coluna 'ocorrencia_uf':\n",
    "df.dropna(subset=['ocorrencia_uf'])"
   ]
  },
  {
   "cell_type": "raw",
   "id": "b21e6037-3dbf-4408-ae52-bf11b5d88044",
   "metadata": {},
   "source": [
    "Deletando linhas duplicadas do dataframe:\n",
    "df.drop_duplicates(inplace=True)"
   ]
  }
 ],
 "metadata": {
  "kernelspec": {
   "display_name": "Python 3 (ipykernel)",
   "language": "python",
   "name": "python3"
  },
  "language_info": {
   "codemirror_mode": {
    "name": "ipython",
    "version": 3
   },
   "file_extension": ".py",
   "mimetype": "text/x-python",
   "name": "python",
   "nbconvert_exporter": "python",
   "pygments_lexer": "ipython3",
   "version": "3.8.10"
  }
 },
 "nbformat": 4,
 "nbformat_minor": 5
}
